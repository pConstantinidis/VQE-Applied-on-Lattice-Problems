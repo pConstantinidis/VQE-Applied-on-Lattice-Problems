{
 "cells": [
  {
   "cell_type": "markdown",
   "id": "4466c548",
   "metadata": {},
   "source": [
    "---\n",
    "__<center>The included code showcases the methods that have been used, although it doesn't generate all the data found in the report.</center>__\n",
    "\n",
    "---"
   ]
  },
  {
   "cell_type": "markdown",
   "id": "aee97004",
   "metadata": {},
   "source": [
    "# Ground state of the transverse Ising model with VQE\n",
    "\n",
    "The transverse Ising model (TIM) is defined by the following qubit hamiltonian:\n",
    "$$\n",
    "\\hat{H} = -J\\sum_{\\langle i,j\\rangle}\\sigma_{i}^{z}\\sigma_{j}^{z} - B\\sum_{i}\\sigma_{i}^{x}.\n",
    "$$\n",
    "where $J=1$ is the coupling and $B$ is the external transverse magnetic field. I will assume that $B=\\frac{1}{4}$."
   ]
  },
  {
   "cell_type": "code",
   "execution_count": 1,
   "id": "52106e4f",
   "metadata": {},
   "outputs": [],
   "source": [
    "import pennylane as qml\n",
    "from pennylane import numpy as pnp\n",
    "import numpy as np\n",
    "from matplotlib import pyplot as plt\n",
    "from qiskit_nature.second_q.hamiltonians import IsingModel\n",
    "from qiskit_nature.second_q.hamiltonians.lattices import BoundaryCondition, HyperCubicLattice, KagomeLattice, LineLattice\n",
    "from qiskit.circuit.library import RealAmplitudes, EfficientSU2\n",
    "from qiskit_algorithms.optimizers import COBYLA\n",
    "from qiskit.quantum_info import Operator\n",
    "from qiskit.visualization import array_to_latex\n",
    "\n",
    "#line_tim = qml.data.load(\"qspin\", sysname=\"Ising\", periodicity=\"open\", lattice=\"chain\", layout=\"1x16\")[0]"
   ]
  },
  {
   "cell_type": "markdown",
   "id": "99f8c629",
   "metadata": {},
   "source": [
    "Load and save your IBMQ credentials if needed before continuing."
   ]
  },
  {
   "cell_type": "code",
   "execution_count": null,
   "id": "52a200ac",
   "metadata": {},
   "outputs": [],
   "source": [
    "from qiskit_ibm_runtime import QiskitRuntimeService, Session, Options, Estimator\n",
    "\n",
    "service = QiskitRuntimeService(name=\"Panagiotis Constantinidis\")\n",
    "backend = service.get_backend(\"ibmq_qasm_simulator\")#noise-less simulator on the cloud\n",
    "\n",
    "options = Options()\n",
    "options.execution.init_qunits = True # initialize qubits to |0>\n",
    "options.execution.shots = 1000# number of shots per experiment"
   ]
  },
  {
   "cell_type": "markdown",
   "id": "d1ab6f36",
   "metadata": {},
   "source": [
    "## Hypercubic lattice\n",
    "\n",
    "Create the lattice and the Hamiltonian in an `Operator` form, in order for the estimator primitive to be able to evaluate it. Additionaly, I instantiate the optimizer and the ansatz."
   ]
  },
  {
   "cell_type": "code",
   "execution_count": 2,
   "id": "d3d1c5cc",
   "metadata": {
    "scrolled": true
   },
   "outputs": [],
   "source": [
    "N = 2\n",
    "J = 1\n",
    "B = 0.25\n",
    "maxiter = 100\n",
    "lattice = HyperCubicLattice(size=(N,N,N))\n",
    "ising_matrix = IsingModel(lattice.uniform_parameters(uniform_interaction=J,\\\n",
    "                                                        uniform_onsite_potential=B)).second_q_op().to_matrix()\n",
    "ising_hamiltonian = Operator(ising_matrix)\n",
    "\n",
    "optimizer = COBYLA(maxiter=maxiter, disp=True)\n",
    "ansatz = RealAmplitudes(lattice.num_nodes, reps=3, entanglement='reverse_linear', flatten=True)"
   ]
  },
  {
   "cell_type": "markdown",
   "id": "d034363e",
   "metadata": {},
   "source": [
    "The initial parameters should be the same for all the algorithm implementations in order for them to be comparable."
   ]
  },
  {
   "cell_type": "code",
   "execution_count": null,
   "id": "e0f9ca07",
   "metadata": {},
   "outputs": [],
   "source": [
    "initial_params = pnp.array([0.62476071, 0.65856904, 0.85165179, 0.92671967, 0.68046261, 0.54199521,\n",
    "                           0.07561732, 0.99096942, 0.84277395, 0.18476281, 0.95033405, 0.28702002,\n",
    "                           0.30162193, 0.15901641, 0.31483114, 0.06107861, 0.57753898, 0.34316103,\n",
    "                           0.17362444, 0.08495347, 0.36485795, 0.45544241, 0.8825014, 0.47694389,\n",
    "                           0.46326857, 0.98616173, 0.90407303, 0.66730942, 0.5169122, 0.30944371,\n",
    "                           0.70817102, 0.54354616])\n",
    "\n",
    "ansatz.decompose().draw(\"mpl\")"
   ]
  },
  {
   "cell_type": "markdown",
   "id": "c37e0a14",
   "metadata": {},
   "source": [
    "### Simulating on the IBMQ cloud\n",
    "__Sessions__ in Qiskit runtime is the go-to way to implement iterative algorithms. In this case the optimizer will run up to `maxiter` quantum subroutines, by using a session these are treated as a single entity and *do not* enter the queue `maxiter` times. Using a context manager is advised as it is less error prone and more resource efficient."
   ]
  },
  {
   "cell_type": "code",
   "execution_count": null,
   "id": "2f6aa6bc",
   "metadata": {},
   "outputs": [],
   "source": [
    "bounds = []\n",
    "for _ in range(ansatz.num_parameters):\n",
    "    bounds.append((-1, 1))"
   ]
  },
  {
   "cell_type": "code",
   "execution_count": null,
   "id": "7413adeb",
   "metadata": {},
   "outputs": [],
   "source": [
    "with Session(service=service, backend=backend) as session:\n",
    "        estimator = Estimator(session=session, backend=backend, options=options)\n",
    "        cost_func = lambda params: estimator.run(ansatz, ising_hamiltonian, parameter_values=params).result().values[0]\n",
    "        result = optimizer.minimize(cost_func, x0=initial_params, bounds=bounds)"
   ]
  },
  {
   "cell_type": "code",
   "execution_count": null,
   "id": "9901be4d",
   "metadata": {},
   "outputs": [],
   "source": [
    "result.x"
   ]
  },
  {
   "cell_type": "markdown",
   "id": "a0a6b041",
   "metadata": {},
   "source": [
    "---\n",
    "## *Pennylane* usecase\n",
    "\n",
    "Additional reading: [Accelerating VQEs with quantum natural gradient](https://pennylane.ai/qml/demos/tutorial_vqe_qng/)"
   ]
  },
  {
   "cell_type": "code",
   "execution_count": null,
   "id": "2990d3ec",
   "metadata": {},
   "outputs": [],
   "source": [
    "ising_matrix = IsingModel(lattice.uniform_parameters(uniform_interaction=J,\\\n",
    "                                    uniform_onsite_potential=B)).second_q_op().to_matrix()\n",
    "observable = qml.Hermitian(ising_matrix, wires=[0,1,2,3,4,5,6,7])\n",
    "hamiltonian = qml.Hamiltonian((1,), (observable,))"
   ]
  },
  {
   "cell_type": "code",
   "execution_count": null,
   "id": "e0c0b8ec",
   "metadata": {},
   "outputs": [],
   "source": [
    "#initial_params = np.array(initial_params)\n",
    "dev = qml.device(\"default.qubit\", wires=lattice.num_nodes)\n",
    "\n",
    "def real_amplitudes(params, wires=[0,1,2,3,4,5,6,7]):\n",
    "    l = len(wires)\n",
    "    def cx_layer():\n",
    "        for i in wires[-2::-1]: # reverse linear\n",
    "            qml.CNOT(wires=[i, i+1])\n",
    "    \n",
    "    def ry_layer(param_range:list):\n",
    "        for i in range(param_range[0], param_range[1]+1):\n",
    "            qml.RY(params[i], wires=i%l)\n",
    "    \n",
    "    ry_layer([0, l-1])\n",
    "    cx_layer()\n",
    "    ry_layer([l, 2*l-1])\n",
    "    cx_layer()\n",
    "    ry_layer([2*l, 3*l-1])\n",
    "    cx_layer()\n",
    "    ry_layer([3*l, 4*l-1])"
   ]
  },
  {
   "cell_type": "code",
   "execution_count": null,
   "id": "dcd419e2",
   "metadata": {},
   "outputs": [],
   "source": [
    "@qml.qnode(dev, interface=\"autograd\")\n",
    "def cubic_cost_function(params):\n",
    "    real_amplitudes(params)\n",
    "    return qml.expval(hamiltonians[0])"
   ]
  },
  {
   "cell_type": "markdown",
   "id": "235150cb",
   "metadata": {},
   "source": [
    "---\n",
    "### Studying the phase transition of a 1D lattice"
   ]
  },
  {
   "cell_type": "code",
   "execution_count": null,
   "id": "566bc3f2",
   "metadata": {},
   "outputs": [],
   "source": [
    "l_lattice = LineLattice(10, boundary_condition=BoundaryCondition.PERIODIC)\n",
    "fields = np.arange(-2, 3, 0.25)\n",
    "l_ising_matrices = [IsingModel(l_lattice.uniform_parameters(uniform_interaction=J,\\\n",
    "                                                        uniform_onsite_potential=b)).second_q_op().to_matrix() for b in fields]"
   ]
  },
  {
   "cell_type": "code",
   "execution_count": null,
   "id": "a0f84e82",
   "metadata": {},
   "outputs": [],
   "source": [
    "observables = [qml.Hermitian(ising_matrix, wires=list(range(10))) for ising_matrix in l_ising_matrices]\n",
    "hamiltonians = [qml.Hamiltonian((1,), (obs,)) for obs in observables]"
   ]
  },
  {
   "cell_type": "code",
   "execution_count": null,
   "id": "195d27a9",
   "metadata": {},
   "outputs": [],
   "source": [
    "optimal_params = [pnp.random.rand(32)]\n",
    "l_energies = []\n",
    "l_exacts = []\n",
    "paulix_exp = []\n",
    "for h in l_ising_matrices:\n",
    "    l_exacts.append(min(np.linalg.eigh(h)[0]))"
   ]
  },
  {
   "cell_type": "code",
   "execution_count": null,
   "id": "8ad1a778",
   "metadata": {},
   "outputs": [],
   "source": [
    "dev = qml.device(\"default.qubit\", wires=10)\n",
    "@qml.qnode(dev, interface=\"autograd\")\n",
    "def line_cost_function(params):\n",
    "    real_amplitudes(params)\n",
    "    return qml.expval(hamiltonians[19])"
   ]
  },
  {
   "cell_type": "code",
   "execution_count": null,
   "id": "9effae17",
   "metadata": {},
   "outputs": [],
   "source": [
    "parameters = vqe_cobyla(cubic_cost_function, theta0=optimal_params[-1], max_iterations=250)\n",
    "hist = [cubic_cost_function(p) for p in parameters]\n",
    "l_energies.append(hist[-1])\n",
    "optimal_params.append(parameters[-1])"
   ]
  },
  {
   "cell_type": "code",
   "execution_count": null,
   "id": "5d718bd2",
   "metadata": {},
   "outputs": [],
   "source": [
    "@qml.qnode(dev, interface=\"autograd\")\n",
    "def pauliz_expectation(opt_params):\n",
    "    obs = 0\n",
    "    for i in range(10):\n",
    "        obs += qml.PauliX(wires=i)\n",
    "    real_amplitudes(opt_params)\n",
    "    return qml.expval(obs)"
   ]
  },
  {
   "cell_type": "code",
   "execution_count": null,
   "id": "a7281b18",
   "metadata": {},
   "outputs": [],
   "source": [
    "xexp = []\n",
    "for p in optimal_params[:-1]:\n",
    "    xexp.append(pauliz_expectation(p))"
   ]
  },
  {
   "cell_type": "markdown",
   "id": "42300265",
   "metadata": {},
   "source": [
    "### COBYLA case"
   ]
  },
  {
   "cell_type": "code",
   "execution_count": null,
   "id": "2182f1c4",
   "metadata": {},
   "outputs": [],
   "source": [
    "def vqe_cobyla(objective_function, theta0=initial_params, max_iterations=400, bounds=bounds):\n",
    "    params_history = [theta0]\n",
    "    def callback(params):\n",
    "        params_history.append(params)\n",
    "\n",
    "    opt = COBYLA(maxiter=max_iterations, callback=callback)\n",
    "    opt.minimize(objective_function, params_history[0], bounds=bounds)\n",
    "    return params_history"
   ]
  },
  {
   "cell_type": "code",
   "execution_count": null,
   "id": "599b97a1",
   "metadata": {
    "scrolled": false
   },
   "outputs": [],
   "source": [
    "params = vqe_cobyla(cubic_cost_function)\n",
    "energies = [cubic_cost_function(args) for args in params]"
   ]
  },
  {
   "cell_type": "code",
   "execution_count": null,
   "id": "0fd28c05",
   "metadata": {},
   "outputs": [],
   "source": [
    "plt.figure(figsize=(18, 5))\n",
    "plt.plot(np.arange(1, len(energies)+1), energies)\n",
    "plt.axhline(y=exact1,color=\"red\",linestyle=\"-.\", label=\"exact\")\n",
    "plt.grid()"
   ]
  },
  {
   "cell_type": "markdown",
   "id": "4465176b",
   "metadata": {},
   "source": [
    "---\n",
    "### Quantum natural gradient descent (QNGD) case"
   ]
  },
  {
   "cell_type": "code",
   "execution_count": null,
   "id": "d742617f",
   "metadata": {},
   "outputs": [],
   "source": [
    "maxiter = 400\n",
    "step_size = 0.14\n",
    "conv_tol = 1e-7"
   ]
  },
  {
   "cell_type": "code",
   "execution_count": null,
   "id": "2f34a76e",
   "metadata": {},
   "outputs": [],
   "source": [
    "def vqe_qngd(objective_function, theta0, step_size=step_size, max_iterations=maxiter, conv_tol=conv_tol, disp_rate=50):\n",
    "    opt = qml.QNGOptimizer(step_size, approx=\"block-diag\")\n",
    "    \n",
    "    #params_history = [init_params]\n",
    "    energy_callback = []\n",
    "    params = theta0\n",
    "    for n in range(max_iterations):\n",
    "        params, prev_energy = opt.step_and_cost(objective_function, params)\n",
    "\n",
    "        energy = objective_function(params)\n",
    "        conver = np.abs(energy - prev_energy)\n",
    "        energy_callback.append(prev_energy)\n",
    "\n",
    "        if n % disp_rate == 0:\n",
    "            print(f\"Iteration = {n},  Energy = {energy}\")\n",
    "\n",
    "        if conver <= conv_tol:\n",
    "            break\n",
    "        #ground_energies.append(energy)\n",
    "    print(f\"Final value of the ground-state is: {energy}\")\n",
    "    return energy_callback, params"
   ]
  },
  {
   "cell_type": "code",
   "execution_count": null,
   "id": "8d7eab35",
   "metadata": {},
   "outputs": [],
   "source": [
    "initial_params = np.array(initial_params, requires_grad=True)\n",
    "ng_energies, opt_params = vqe_qngd(cubic_cost_function, initial_params, disp_rate=50)"
   ]
  },
  {
   "cell_type": "markdown",
   "id": "557e05dd",
   "metadata": {},
   "source": [
    "### Kagome lattice"
   ]
  },
  {
   "cell_type": "code",
   "execution_count": null,
   "id": "6bd42eec",
   "metadata": {},
   "outputs": [],
   "source": [
    "k_lattice = KagomeLattice(2, 2, boundary_condition=BoundaryCondition.PERIODIC).uniform_parameters(J, B)\n",
    "k_ising_matrix = IsingModel(k_lattice).second_q_op().to_matrix()\n",
    "obs = qml.Hermitian(k_ising_matrix, wires=list(range(12)))\n",
    "k_ising_hamiltonian = qml.Hamiltonian((1,), (obs,))"
   ]
  },
  {
   "cell_type": "code",
   "execution_count": null,
   "id": "dabd92d9",
   "metadata": {},
   "outputs": [],
   "source": [
    "def efficient_su2(params, wires=list(range(12))):\n",
    "    l = len(wires)\n",
    "    def cx_layer():\n",
    "        for i in wires[-2::-1]: # reverse linear\n",
    "            qml.CNOT(wires=[i, i+1])\n",
    "    \n",
    "    def ry_layer(param_range:list):\n",
    "        for i in range(param_range[0], param_range[1]+1):\n",
    "            qml.RY(params[i], wires=i%l)\n",
    "            \n",
    "    def rx_layer(param_range:list):\n",
    "        for i in range(param_range[0], param_range[1]+1):\n",
    "            qml.RZ(params[i], wires=i%l)\n",
    "            \n",
    "    ry_layer([0, 11])\n",
    "    rx_layer([12, 23])\n",
    "    cx_layer()\n",
    "    ry_layer([24, 35])\n",
    "    rx_layer([36, 47])\n",
    "    cx_layer()\n",
    "    ry_layer([48, 59])\n",
    "    rx_layer([60, 71])\n",
    "    cx_layer()\n",
    "    ry_layer([72, 83])\n",
    "    rx_layer([84, 95])"
   ]
  },
  {
   "cell_type": "code",
   "execution_count": null,
   "id": "189f287a",
   "metadata": {
    "scrolled": false
   },
   "outputs": [],
   "source": [
    "dev = qml.device(\"default.qubit\", wires=12)\n",
    "\n",
    "@qml.qnode(dev, interface=\"autograd\")\n",
    "def kagome_cost_function(params):\n",
    "    for i in range(12):\n",
    "        if i%2 == 0:\n",
    "            qml.PauliZ(wires=i)\n",
    "    real_amplitudes(params)\n",
    "    #efficient_su2(params)\n",
    "    return qml.expval(k_ising_hamiltonian)"
   ]
  },
  {
   "cell_type": "code",
   "execution_count": null,
   "id": "a39bfadb",
   "metadata": {},
   "outputs": [],
   "source": [
    "init_params = np.random.rand(48)\n",
    "#init_params_su2 = np.random.rand(96)"
   ]
  },
  {
   "cell_type": "code",
   "execution_count": null,
   "id": "60a83c1f",
   "metadata": {
    "scrolled": false
   },
   "outputs": [],
   "source": [
    "k_params = vqe_cobyla(kagome_cost_function, max_iterations=600, theta0=init_params)"
   ]
  },
  {
   "cell_type": "code",
   "execution_count": null,
   "id": "bfc579f3",
   "metadata": {
    "scrolled": false
   },
   "outputs": [],
   "source": [
    "for i, p in enumerate(k_params):\n",
    "    if not isinstance(p, np.ndarray):\n",
    "        print(i)"
   ]
  },
  {
   "cell_type": "code",
   "execution_count": null,
   "id": "56fd3842",
   "metadata": {},
   "outputs": [],
   "source": [
    "k_energies = [kagome_cost_function(p) for p in k_params]"
   ]
  },
  {
   "cell_type": "code",
   "execution_count": null,
   "id": "225497c9",
   "metadata": {},
   "outputs": [],
   "source": [
    "k_ref_params = vqe_cobyla(kagome_cost_function, max_iterations=600, theta0=init_params)"
   ]
  },
  {
   "cell_type": "code",
   "execution_count": null,
   "id": "b85e0389",
   "metadata": {},
   "outputs": [],
   "source": [
    "k_ref_energies = [kagome_cost_function(p) for p in k_ref_params]"
   ]
  },
  {
   "cell_type": "code",
   "execution_count": null,
   "id": "d9b95e6f",
   "metadata": {},
   "outputs": [],
   "source": [
    "k_refz_params = vqe_cobyla(kagome_cost_function, max_iterations=600, theta0=init_params)"
   ]
  },
  {
   "cell_type": "code",
   "execution_count": null,
   "id": "db7bb82d",
   "metadata": {},
   "outputs": [],
   "source": [
    "k_refz_energies = [kagome_cost_function(p) for p in k_ref_params]"
   ]
  },
  {
   "cell_type": "code",
   "execution_count": null,
   "id": "ff9827ce",
   "metadata": {},
   "outputs": [],
   "source": [
    "values, vectors = np.linalg.eigh(k_ising_matrix)\n",
    "ground_state = 0\n",
    "for i, val in enumerate(values):\n",
    "    if val == min(values):\n",
    "        ground_state = vectors[:,i]\n",
    "        break\n",
    "k_exact = min(values)"
   ]
  },
  {
   "cell_type": "code",
   "execution_count": null,
   "id": "8526eaf7",
   "metadata": {
    "scrolled": false
   },
   "outputs": [],
   "source": [
    "plt.figure(figsize=(9, 5))\n",
    "plt.plot(range(1, len(k_energies)+1), k_energies, label=\"RealAmplitudes\")\n",
    "plt.plot(range(1, len(k_ref_energies)+1), k_ref_energies, label=\"RealAmplitudes $U_{R,X}$\")\n",
    "#plt.plot(range(1, len(k_refz_energies)+1), k_refz_energies, label=\"RealAmplitudes $U_{R,Z}$\")\n",
    "plt.axhline(y=k_exact,color=\"red\",linestyle=\"-.\", label=\"exact\")\n",
    "plt.legend(fancybox=False, edgecolor=\"black\", fontsize=\"x-large\")\n",
    "plt.title(\"Kagome ground energy approximation\")\n",
    "plt.xlabel(\"Iterations\", size=13)\n",
    "plt.ylabel(\"Expextation valueσ\", size=13)\n",
    "plt.grid()"
   ]
  },
  {
   "cell_type": "markdown",
   "id": "5a98a249",
   "metadata": {},
   "source": [
    "---\n",
    "## Monitor results from IBM quantum service\n",
    "\n",
    "Fill in your session ID which can be found on the jobs dashboard at the IBMQ website."
   ]
  },
  {
   "cell_type": "code",
   "execution_count": null,
   "id": "e09a91ab",
   "metadata": {},
   "outputs": [],
   "source": [
    "jobs = service.jobs(session_id=\"cn2c4i7n6tkp35haqh50\", limit=None)#cmj63dn4mi97k7k12sr0\n",
    "variance = [job.result().metadata[0][\"variance\"] for job in jobs]\n",
    "energies = [job.result().values[0] for job in jobs]"
   ]
  },
  {
   "cell_type": "code",
   "execution_count": null,
   "id": "63387f3e",
   "metadata": {},
   "outputs": [],
   "source": [
    "values, vectors = np.linalg.eigh(ising_matrix)\n",
    "ground_state = 0\n",
    "for i, val in enumerate(values):\n",
    "    if val == min(values):\n",
    "        ground_state = vectors[:,i]\n",
    "        break\n",
    "exact1 = min(values)"
   ]
  },
  {
   "cell_type": "markdown",
   "id": "6e7ebc8c",
   "metadata": {},
   "source": [
    "### Ploting outline"
   ]
  },
  {
   "cell_type": "code",
   "execution_count": null,
   "id": "ebba088b",
   "metadata": {},
   "outputs": [],
   "source": [
    "plt.figure(figsize=(9,5))\n",
    "plt.plot(range(1, len(energies)+1), energies, label=\"COBYLA\")\n",
    "plt.plot(range(1, len(ng_energies[0])+1), ng_energies[0], label=\"QNGD\", color='orange')\n",
    "plt.axhline(y=exact,color=\"red\",linestyle=\"-.\", label=\"exact\")\n",
    "#plt.fill_between(range(1, len(energies)+1), np.array(energies[::-1])-np.array(variance[::-1]),\\\n",
    "#                 np.array(energies[::-1])+np.array(variance[::-1]), color=\"paleturquoise\", label=\"variance\")\n",
    "plt.ylabel(r\"Expectation value\", size=12)\n",
    "plt.xlabel(r\"Iterations\", size=13)\n",
    "#plt.text(65, 2, r\"$\\left|\\frac{E_{qngd} - E_{exact}}{E_{cobyla} - E_{exact}}\\right| \\approx $\"+f\"{round(np.abs(ng_energies[-1]-exact / energies[0]-exact)**-1, 4)}\", bbox=dict(facecolor='white', edgecolor='black'), fontsize=15)\n",
    "\n",
    "plt.grid()\n",
    "plt.legend(fontsize=\"x-large\", fancybox=False, edgecolor=\"black\")\n",
    "plt.title(r\"$\\langle E\\rangle_{2\\times 2\\times 2}$ ground energy approximation\")\n",
    "print(f\"nfev: {len(energies)}\\nfval: {energies[0]}\")"
   ]
  }
 ],
 "metadata": {
  "kernelspec": {
   "display_name": "Python 3 (ipykernel)",
   "language": "python",
   "name": "python3"
  },
  "language_info": {
   "codemirror_mode": {
    "name": "ipython",
    "version": 3
   },
   "file_extension": ".py",
   "mimetype": "text/x-python",
   "name": "python",
   "nbconvert_exporter": "python",
   "pygments_lexer": "ipython3",
   "version": "3.10.9"
  }
 },
 "nbformat": 4,
 "nbformat_minor": 5
}
